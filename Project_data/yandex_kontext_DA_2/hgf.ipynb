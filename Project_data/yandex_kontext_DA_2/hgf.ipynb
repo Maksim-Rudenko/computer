{
 "cells": [
  {
   "cell_type": "code",
   "execution_count": 5,
   "metadata": {},
   "outputs": [
    {
     "data": {
      "text/html": [
       "<div>\n",
       "<style scoped>\n",
       "    .dataframe tbody tr th:only-of-type {\n",
       "        vertical-align: middle;\n",
       "    }\n",
       "\n",
       "    .dataframe tbody tr th {\n",
       "        vertical-align: top;\n",
       "    }\n",
       "\n",
       "    .dataframe thead th {\n",
       "        text-align: right;\n",
       "    }\n",
       "</style>\n",
       "<table border=\"1\" class=\"dataframe\">\n",
       "  <thead>\n",
       "    <tr style=\"text-align: right;\">\n",
       "      <th></th>\n",
       "      <th>assignment_id</th>\n",
       "      <th>end_ts</th>\n",
       "      <th>skill_value</th>\n",
       "      <th>start_ts</th>\n",
       "      <th>status</th>\n",
       "      <th>task_id</th>\n",
       "      <th>worker_id</th>\n",
       "      <th>diff_hours</th>\n",
       "      <th>skill_value_new</th>\n",
       "    </tr>\n",
       "  </thead>\n",
       "  <tbody>\n",
       "    <tr>\n",
       "      <th>0</th>\n",
       "      <td>00A8AC4693FC7E5CB3D7B802BEA18D1382D77B3D629FB9...</td>\n",
       "      <td>1722261844</td>\n",
       "      <td>63</td>\n",
       "      <td>1722254644</td>\n",
       "      <td>EXPIRED</td>\n",
       "      <td>A5D505BE1651BF20A95EAFD7ABE6D7F16B8BED2799FB74...</td>\n",
       "      <td>E985D327D8938E8953D0F15088D97ECA362CDCB117AD52...</td>\n",
       "      <td>2</td>\n",
       "      <td>45.2</td>\n",
       "    </tr>\n",
       "    <tr>\n",
       "      <th>1</th>\n",
       "      <td>D7D9C2D0739D65BB9EE5F52BA79B26403844DF32EE9D83...</td>\n",
       "      <td>1722261439</td>\n",
       "      <td>71</td>\n",
       "      <td>1722254470</td>\n",
       "      <td>APPROVED</td>\n",
       "      <td>A5D505BE1651BF20A95EAFD7ABE6D7F16B8BED2799FB74...</td>\n",
       "      <td>00E6EF37FA54328CC10B133FD85772941133FF15B0AD0B...</td>\n",
       "      <td>1</td>\n",
       "      <td>48.4</td>\n",
       "    </tr>\n",
       "    <tr>\n",
       "      <th>2</th>\n",
       "      <td>674C6989349221F042C9DA17ADA62CAA1668939C9326D3...</td>\n",
       "      <td>1722262081</td>\n",
       "      <td>70</td>\n",
       "      <td>1722258044</td>\n",
       "      <td>APPROVED</td>\n",
       "      <td>1A9B5464AFDEF47B1647826F4D0106E35DFA72A0B4A10C...</td>\n",
       "      <td>0FC6CD812213C036109AFC4C6B66AE4111EE643C2AB624...</td>\n",
       "      <td>1</td>\n",
       "      <td>48.0</td>\n",
       "    </tr>\n",
       "  </tbody>\n",
       "</table>\n",
       "</div>"
      ],
      "text/plain": [
       "                                       assignment_id      end_ts  skill_value  \\\n",
       "0  00A8AC4693FC7E5CB3D7B802BEA18D1382D77B3D629FB9...  1722261844           63   \n",
       "1  D7D9C2D0739D65BB9EE5F52BA79B26403844DF32EE9D83...  1722261439           71   \n",
       "2  674C6989349221F042C9DA17ADA62CAA1668939C9326D3...  1722262081           70   \n",
       "\n",
       "     start_ts    status                                            task_id  \\\n",
       "0  1722254644   EXPIRED  A5D505BE1651BF20A95EAFD7ABE6D7F16B8BED2799FB74...   \n",
       "1  1722254470  APPROVED  A5D505BE1651BF20A95EAFD7ABE6D7F16B8BED2799FB74...   \n",
       "2  1722258044  APPROVED  1A9B5464AFDEF47B1647826F4D0106E35DFA72A0B4A10C...   \n",
       "\n",
       "                                           worker_id  diff_hours  \\\n",
       "0  E985D327D8938E8953D0F15088D97ECA362CDCB117AD52...           2   \n",
       "1  00E6EF37FA54328CC10B133FD85772941133FF15B0AD0B...           1   \n",
       "2  0FC6CD812213C036109AFC4C6B66AE4111EE643C2AB624...           1   \n",
       "\n",
       "   skill_value_new  \n",
       "0             45.2  \n",
       "1             48.4  \n",
       "2             48.0  "
      ]
     },
     "execution_count": 5,
     "metadata": {},
     "output_type": "execute_result"
    }
   ],
   "source": [
    "import pandas as pd\n",
    "df = pd.read_json(path_or_buf='logs.jsonl', lines=True)\n"
   ]
  },
  {
   "cell_type": "code",
   "execution_count": 7,
   "metadata": {},
   "outputs": [
    {
     "data": {
      "text/html": [
       "<div>\n",
       "<style scoped>\n",
       "    .dataframe tbody tr th:only-of-type {\n",
       "        vertical-align: middle;\n",
       "    }\n",
       "\n",
       "    .dataframe tbody tr th {\n",
       "        vertical-align: top;\n",
       "    }\n",
       "\n",
       "    .dataframe thead th {\n",
       "        text-align: right;\n",
       "    }\n",
       "</style>\n",
       "<table border=\"1\" class=\"dataframe\">\n",
       "  <thead>\n",
       "    <tr style=\"text-align: right;\">\n",
       "      <th></th>\n",
       "      <th>assignment_id</th>\n",
       "      <th>end_ts</th>\n",
       "      <th>skill_value</th>\n",
       "      <th>start_ts</th>\n",
       "      <th>status</th>\n",
       "      <th>task_id</th>\n",
       "      <th>worker_id</th>\n",
       "      <th>diff_hours</th>\n",
       "      <th>skill_value_new</th>\n",
       "    </tr>\n",
       "  </thead>\n",
       "  <tbody>\n",
       "    <tr>\n",
       "      <th>0</th>\n",
       "      <td>00A8AC4693FC7E5CB3D7B802BEA18D1382D77B3D629FB9...</td>\n",
       "      <td>1722261844</td>\n",
       "      <td>63</td>\n",
       "      <td>1722254644</td>\n",
       "      <td>EXPIRED</td>\n",
       "      <td>A5D505BE1651BF20A95EAFD7ABE6D7F16B8BED2799FB74...</td>\n",
       "      <td>E985D327D8938E8953D0F15088D97ECA362CDCB117AD52...</td>\n",
       "      <td>2</td>\n",
       "      <td>45.2</td>\n",
       "    </tr>\n",
       "    <tr>\n",
       "      <th>1</th>\n",
       "      <td>D7D9C2D0739D65BB9EE5F52BA79B26403844DF32EE9D83...</td>\n",
       "      <td>1722261439</td>\n",
       "      <td>71</td>\n",
       "      <td>1722254470</td>\n",
       "      <td>APPROVED</td>\n",
       "      <td>A5D505BE1651BF20A95EAFD7ABE6D7F16B8BED2799FB74...</td>\n",
       "      <td>00E6EF37FA54328CC10B133FD85772941133FF15B0AD0B...</td>\n",
       "      <td>1</td>\n",
       "      <td>48.4</td>\n",
       "    </tr>\n",
       "    <tr>\n",
       "      <th>2</th>\n",
       "      <td>674C6989349221F042C9DA17ADA62CAA1668939C9326D3...</td>\n",
       "      <td>1722262081</td>\n",
       "      <td>70</td>\n",
       "      <td>1722258044</td>\n",
       "      <td>APPROVED</td>\n",
       "      <td>1A9B5464AFDEF47B1647826F4D0106E35DFA72A0B4A10C...</td>\n",
       "      <td>0FC6CD812213C036109AFC4C6B66AE4111EE643C2AB624...</td>\n",
       "      <td>1</td>\n",
       "      <td>48.0</td>\n",
       "    </tr>\n",
       "  </tbody>\n",
       "</table>\n",
       "</div>"
      ],
      "text/plain": [
       "                                       assignment_id      end_ts  skill_value  \\\n",
       "0  00A8AC4693FC7E5CB3D7B802BEA18D1382D77B3D629FB9...  1722261844           63   \n",
       "1  D7D9C2D0739D65BB9EE5F52BA79B26403844DF32EE9D83...  1722261439           71   \n",
       "2  674C6989349221F042C9DA17ADA62CAA1668939C9326D3...  1722262081           70   \n",
       "\n",
       "     start_ts    status                                            task_id  \\\n",
       "0  1722254644   EXPIRED  A5D505BE1651BF20A95EAFD7ABE6D7F16B8BED2799FB74...   \n",
       "1  1722254470  APPROVED  A5D505BE1651BF20A95EAFD7ABE6D7F16B8BED2799FB74...   \n",
       "2  1722258044  APPROVED  1A9B5464AFDEF47B1647826F4D0106E35DFA72A0B4A10C...   \n",
       "\n",
       "                                           worker_id  diff_hours  \\\n",
       "0  E985D327D8938E8953D0F15088D97ECA362CDCB117AD52...           2   \n",
       "1  00E6EF37FA54328CC10B133FD85772941133FF15B0AD0B...           1   \n",
       "2  0FC6CD812213C036109AFC4C6B66AE4111EE643C2AB624...           1   \n",
       "\n",
       "   skill_value_new  \n",
       "0             45.2  \n",
       "1             48.4  \n",
       "2             48.0  "
      ]
     },
     "execution_count": 7,
     "metadata": {},
     "output_type": "execute_result"
    }
   ],
   "source": [
    "df['diff_hours'] = (df['end_ts'] - df['start_ts']) // 3600\n",
    "df['skill_value_new'] = (df['skill_value'] - 50) * 0.4 + 40\n",
    "df"
   ]
  },
  {
   "cell_type": "code",
   "execution_count": 11,
   "metadata": {},
   "outputs": [
    {
     "data": {
      "text/plain": [
       "nan"
      ]
     },
     "execution_count": 11,
     "metadata": {},
     "output_type": "execute_result"
    }
   ],
   "source": [
    "sum_value = df[df['status'] == 'APPROVED']['skill_value_new'] * df['diff_hours']\n",
    "sum_value"
   ]
  }
 ],
 "metadata": {
  "kernelspec": {
   "display_name": "Python 3",
   "language": "python",
   "name": "python3"
  },
  "language_info": {
   "codemirror_mode": {
    "name": "ipython",
    "version": 3
   },
   "file_extension": ".py",
   "mimetype": "text/x-python",
   "name": "python",
   "nbconvert_exporter": "python",
   "pygments_lexer": "ipython3",
   "version": "3.12.0"
  }
 },
 "nbformat": 4,
 "nbformat_minor": 2
}
