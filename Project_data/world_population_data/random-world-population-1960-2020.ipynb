{
 "cells": [
  {
   "cell_type": "code",
   "execution_count": 1,
   "id": "94af8299",
   "metadata": {
    "_cell_guid": "b1076dfc-b9ad-4769-8c92-a6c4dae69d19",
    "_uuid": "8f2839f25d086af736a60e9eeb907d3b93b6e0e5",
    "execution": {
     "iopub.execute_input": "2023-06-18T15:45:11.646967Z",
     "iopub.status.busy": "2023-06-18T15:45:11.646585Z",
     "iopub.status.idle": "2023-06-18T15:45:13.202609Z",
     "shell.execute_reply": "2023-06-18T15:45:13.201239Z"
    },
    "papermill": {
     "duration": 1.565614,
     "end_time": "2023-06-18T15:45:13.205425",
     "exception": false,
     "start_time": "2023-06-18T15:45:11.639811",
     "status": "completed"
    },
    "tags": []
   },
   "outputs": [
    {
     "name": "stdout",
     "output_type": "stream",
     "text": [
      "/kaggle/input/world-population-data-1960-2020/world_pop.csv\n"
     ]
    }
   ],
   "source": [
    "# This Python 3 environment comes with many helpful analytics libraries installed\n",
    "# It is defined by the kaggle/python Docker image: https://github.com/kaggle/docker-python\n",
    "# For example, here's several helpful packages to load\n",
    "\n",
    "import numpy as np # linear algebra\n",
    "import pandas as pd # data processing, CSV file I/O (e.g. pd.read_csv)\n",
    "import seaborn as sns\n",
    "import matplotlib.pyplot as plt\n",
    "\n",
    "# Input data files are available in the read-only \"../input/\" directory\n",
    "# For example, running this (by clicking run or pressing Shift+Enter) will list all files under the input directory\n",
    "\n",
    "import os\n",
    "for dirname, _, filenames in os.walk('/kaggle/input'):\n",
    "    for filename in filenames:\n",
    "        print(os.path.join(dirname, filename))\n",
    "\n",
    "# You can write up to 20GB to the current directory (/kaggle/working/) that gets preserved as output when you create a version using \"Save & Run All\" \n",
    "# You can also write temporary files to /kaggle/temp/, but they won't be saved outside of the current session"
   ]
  },
  {
   "cell_type": "code",
   "execution_count": 2,
   "id": "73841e81",
   "metadata": {
    "execution": {
     "iopub.execute_input": "2023-06-18T15:45:13.217531Z",
     "iopub.status.busy": "2023-06-18T15:45:13.217179Z",
     "iopub.status.idle": "2023-06-18T15:45:13.247306Z",
     "shell.execute_reply": "2023-06-18T15:45:13.245774Z"
    },
    "papermill": {
     "duration": 0.039218,
     "end_time": "2023-06-18T15:45:13.249865",
     "exception": false,
     "start_time": "2023-06-18T15:45:13.210647",
     "status": "completed"
    },
    "tags": []
   },
   "outputs": [],
   "source": [
    "df = pd.read_csv('/kaggle/input/world-population-data-1960-2020/world_pop.csv')"
   ]
  },
  {
   "cell_type": "markdown",
   "id": "59fa33aa",
   "metadata": {
    "papermill": {
     "duration": 0.0042,
     "end_time": "2023-06-18T15:45:13.258790",
     "exception": false,
     "start_time": "2023-06-18T15:45:13.254590",
     "status": "completed"
    },
    "tags": []
   },
   "source": [
    "# Оценка и подготовка данных"
   ]
  },
  {
   "cell_type": "code",
   "execution_count": 3,
   "id": "7970dc09",
   "metadata": {
    "execution": {
     "iopub.execute_input": "2023-06-18T15:45:13.269306Z",
     "iopub.status.busy": "2023-06-18T15:45:13.268940Z",
     "iopub.status.idle": "2023-06-18T15:45:13.327533Z",
     "shell.execute_reply": "2023-06-18T15:45:13.326770Z"
    },
    "papermill": {
     "duration": 0.066597,
     "end_time": "2023-06-18T15:45:13.329813",
     "exception": false,
     "start_time": "2023-06-18T15:45:13.263216",
     "status": "completed"
    },
    "tags": []
   },
   "outputs": [
    {
     "data": {
      "text/html": [
       "<div>\n",
       "<style scoped>\n",
       "    .dataframe tbody tr th:only-of-type {\n",
       "        vertical-align: middle;\n",
       "    }\n",
       "\n",
       "    .dataframe tbody tr th {\n",
       "        vertical-align: top;\n",
       "    }\n",
       "\n",
       "    .dataframe thead th {\n",
       "        text-align: right;\n",
       "    }\n",
       "</style>\n",
       "<table border=\"1\" class=\"dataframe\">\n",
       "  <thead>\n",
       "    <tr style=\"text-align: right;\">\n",
       "      <th></th>\n",
       "      <th>Unnamed: 0</th>\n",
       "      <th>country</th>\n",
       "      <th>year_1960</th>\n",
       "      <th>year_1961</th>\n",
       "      <th>year_1962</th>\n",
       "      <th>year_1963</th>\n",
       "      <th>year_1964</th>\n",
       "      <th>year_1965</th>\n",
       "      <th>year_1966</th>\n",
       "      <th>year_1967</th>\n",
       "      <th>...</th>\n",
       "      <th>year_2011</th>\n",
       "      <th>year_2012</th>\n",
       "      <th>year_2013</th>\n",
       "      <th>year_2014</th>\n",
       "      <th>year_2015</th>\n",
       "      <th>year_2016</th>\n",
       "      <th>year_2017</th>\n",
       "      <th>year_2018</th>\n",
       "      <th>year_2019</th>\n",
       "      <th>year_2020</th>\n",
       "    </tr>\n",
       "  </thead>\n",
       "  <tbody>\n",
       "    <tr>\n",
       "      <th>0</th>\n",
       "      <td>1</td>\n",
       "      <td>Afghanistan</td>\n",
       "      <td>8996967.0</td>\n",
       "      <td>9169406.0</td>\n",
       "      <td>9351442.0</td>\n",
       "      <td>9543200.0</td>\n",
       "      <td>9744772.0</td>\n",
       "      <td>9956318.0</td>\n",
       "      <td>10174840.0</td>\n",
       "      <td>10399936.0</td>\n",
       "      <td>...</td>\n",
       "      <td>30117411</td>\n",
       "      <td>31161378.0</td>\n",
       "      <td>32269592.0</td>\n",
       "      <td>33370804.0</td>\n",
       "      <td>34413603.0</td>\n",
       "      <td>35383028.0</td>\n",
       "      <td>36296111.0</td>\n",
       "      <td>37171922.0</td>\n",
       "      <td>38041757.0</td>\n",
       "      <td>38928341.0</td>\n",
       "    </tr>\n",
       "    <tr>\n",
       "      <th>1</th>\n",
       "      <td>2</td>\n",
       "      <td>Albania</td>\n",
       "      <td>1608800.0</td>\n",
       "      <td>1659800.0</td>\n",
       "      <td>1711319.0</td>\n",
       "      <td>1762621.0</td>\n",
       "      <td>1814135.0</td>\n",
       "      <td>1864791.0</td>\n",
       "      <td>1914573.0</td>\n",
       "      <td>1965598.0</td>\n",
       "      <td>...</td>\n",
       "      <td>2905195</td>\n",
       "      <td>2900401.0</td>\n",
       "      <td>2895092.0</td>\n",
       "      <td>2889104.0</td>\n",
       "      <td>2880703.0</td>\n",
       "      <td>2876101.0</td>\n",
       "      <td>2873457.0</td>\n",
       "      <td>2866376.0</td>\n",
       "      <td>2854191.0</td>\n",
       "      <td>2837743.0</td>\n",
       "    </tr>\n",
       "    <tr>\n",
       "      <th>2</th>\n",
       "      <td>3</td>\n",
       "      <td>Algeria</td>\n",
       "      <td>11057864.0</td>\n",
       "      <td>11336336.0</td>\n",
       "      <td>11619828.0</td>\n",
       "      <td>11912800.0</td>\n",
       "      <td>12221675.0</td>\n",
       "      <td>12550880.0</td>\n",
       "      <td>12902626.0</td>\n",
       "      <td>13275020.0</td>\n",
       "      <td>...</td>\n",
       "      <td>36661438</td>\n",
       "      <td>37383899.0</td>\n",
       "      <td>38140135.0</td>\n",
       "      <td>38923688.0</td>\n",
       "      <td>39728020.0</td>\n",
       "      <td>40551398.0</td>\n",
       "      <td>41389174.0</td>\n",
       "      <td>42228415.0</td>\n",
       "      <td>43053054.0</td>\n",
       "      <td>43851043.0</td>\n",
       "    </tr>\n",
       "    <tr>\n",
       "      <th>3</th>\n",
       "      <td>4</td>\n",
       "      <td>American Samoa</td>\n",
       "      <td>20127.0</td>\n",
       "      <td>20605.0</td>\n",
       "      <td>21246.0</td>\n",
       "      <td>22029.0</td>\n",
       "      <td>22850.0</td>\n",
       "      <td>23675.0</td>\n",
       "      <td>24473.0</td>\n",
       "      <td>25235.0</td>\n",
       "      <td>...</td>\n",
       "      <td>55755</td>\n",
       "      <td>55669.0</td>\n",
       "      <td>55717.0</td>\n",
       "      <td>55791.0</td>\n",
       "      <td>55806.0</td>\n",
       "      <td>55739.0</td>\n",
       "      <td>55617.0</td>\n",
       "      <td>55461.0</td>\n",
       "      <td>55312.0</td>\n",
       "      <td>55197.0</td>\n",
       "    </tr>\n",
       "    <tr>\n",
       "      <th>4</th>\n",
       "      <td>5</td>\n",
       "      <td>Andorra</td>\n",
       "      <td>13410.0</td>\n",
       "      <td>14378.0</td>\n",
       "      <td>15379.0</td>\n",
       "      <td>16407.0</td>\n",
       "      <td>17466.0</td>\n",
       "      <td>18542.0</td>\n",
       "      <td>19646.0</td>\n",
       "      <td>20760.0</td>\n",
       "      <td>...</td>\n",
       "      <td>83748</td>\n",
       "      <td>82427.0</td>\n",
       "      <td>80770.0</td>\n",
       "      <td>79213.0</td>\n",
       "      <td>77993.0</td>\n",
       "      <td>77295.0</td>\n",
       "      <td>76997.0</td>\n",
       "      <td>77008.0</td>\n",
       "      <td>77146.0</td>\n",
       "      <td>77265.0</td>\n",
       "    </tr>\n",
       "    <tr>\n",
       "      <th>...</th>\n",
       "      <td>...</td>\n",
       "      <td>...</td>\n",
       "      <td>...</td>\n",
       "      <td>...</td>\n",
       "      <td>...</td>\n",
       "      <td>...</td>\n",
       "      <td>...</td>\n",
       "      <td>...</td>\n",
       "      <td>...</td>\n",
       "      <td>...</td>\n",
       "      <td>...</td>\n",
       "      <td>...</td>\n",
       "      <td>...</td>\n",
       "      <td>...</td>\n",
       "      <td>...</td>\n",
       "      <td>...</td>\n",
       "      <td>...</td>\n",
       "      <td>...</td>\n",
       "      <td>...</td>\n",
       "      <td>...</td>\n",
       "      <td>...</td>\n",
       "    </tr>\n",
       "    <tr>\n",
       "      <th>211</th>\n",
       "      <td>212</td>\n",
       "      <td>Virgin Islands (U.S.)</td>\n",
       "      <td>32500.0</td>\n",
       "      <td>34300.0</td>\n",
       "      <td>35000.0</td>\n",
       "      <td>39800.0</td>\n",
       "      <td>40800.0</td>\n",
       "      <td>43500.0</td>\n",
       "      <td>46200.0</td>\n",
       "      <td>49100.0</td>\n",
       "      <td>...</td>\n",
       "      <td>108290</td>\n",
       "      <td>108188.0</td>\n",
       "      <td>108041.0</td>\n",
       "      <td>107882.0</td>\n",
       "      <td>107712.0</td>\n",
       "      <td>107516.0</td>\n",
       "      <td>107281.0</td>\n",
       "      <td>107001.0</td>\n",
       "      <td>106669.0</td>\n",
       "      <td>106290.0</td>\n",
       "    </tr>\n",
       "    <tr>\n",
       "      <th>212</th>\n",
       "      <td>213</td>\n",
       "      <td>West Bank and Gaza</td>\n",
       "      <td>NaN</td>\n",
       "      <td>NaN</td>\n",
       "      <td>NaN</td>\n",
       "      <td>NaN</td>\n",
       "      <td>NaN</td>\n",
       "      <td>NaN</td>\n",
       "      <td>NaN</td>\n",
       "      <td>NaN</td>\n",
       "      <td>...</td>\n",
       "      <td>3882986</td>\n",
       "      <td>3979998.0</td>\n",
       "      <td>4076708.0</td>\n",
       "      <td>4173398.0</td>\n",
       "      <td>4270092.0</td>\n",
       "      <td>4367088.0</td>\n",
       "      <td>4454805.0</td>\n",
       "      <td>4569087.0</td>\n",
       "      <td>4685306.0</td>\n",
       "      <td>4803269.0</td>\n",
       "    </tr>\n",
       "    <tr>\n",
       "      <th>213</th>\n",
       "      <td>214</td>\n",
       "      <td>Yemen, Rep.</td>\n",
       "      <td>5315351.0</td>\n",
       "      <td>5393034.0</td>\n",
       "      <td>5473671.0</td>\n",
       "      <td>5556767.0</td>\n",
       "      <td>5641598.0</td>\n",
       "      <td>5727745.0</td>\n",
       "      <td>5816241.0</td>\n",
       "      <td>5907873.0</td>\n",
       "      <td>...</td>\n",
       "      <td>23807586</td>\n",
       "      <td>24473176.0</td>\n",
       "      <td>25147112.0</td>\n",
       "      <td>25823488.0</td>\n",
       "      <td>26497881.0</td>\n",
       "      <td>27168210.0</td>\n",
       "      <td>27834811.0</td>\n",
       "      <td>28498683.0</td>\n",
       "      <td>29161922.0</td>\n",
       "      <td>29825968.0</td>\n",
       "    </tr>\n",
       "    <tr>\n",
       "      <th>214</th>\n",
       "      <td>215</td>\n",
       "      <td>Zambia</td>\n",
       "      <td>3070780.0</td>\n",
       "      <td>3164330.0</td>\n",
       "      <td>3260645.0</td>\n",
       "      <td>3360099.0</td>\n",
       "      <td>3463211.0</td>\n",
       "      <td>3570466.0</td>\n",
       "      <td>3681953.0</td>\n",
       "      <td>3797877.0</td>\n",
       "      <td>...</td>\n",
       "      <td>14023199</td>\n",
       "      <td>14465148.0</td>\n",
       "      <td>14926551.0</td>\n",
       "      <td>15399793.0</td>\n",
       "      <td>15879370.0</td>\n",
       "      <td>16363449.0</td>\n",
       "      <td>16853608.0</td>\n",
       "      <td>17351714.0</td>\n",
       "      <td>17861034.0</td>\n",
       "      <td>18383956.0</td>\n",
       "    </tr>\n",
       "    <tr>\n",
       "      <th>215</th>\n",
       "      <td>216</td>\n",
       "      <td>Zimbabwe</td>\n",
       "      <td>3776679.0</td>\n",
       "      <td>3905038.0</td>\n",
       "      <td>4039209.0</td>\n",
       "      <td>4178726.0</td>\n",
       "      <td>4322854.0</td>\n",
       "      <td>4471178.0</td>\n",
       "      <td>4623340.0</td>\n",
       "      <td>4779825.0</td>\n",
       "      <td>...</td>\n",
       "      <td>12894323</td>\n",
       "      <td>13115149.0</td>\n",
       "      <td>13350378.0</td>\n",
       "      <td>13586710.0</td>\n",
       "      <td>13814642.0</td>\n",
       "      <td>14030338.0</td>\n",
       "      <td>14236599.0</td>\n",
       "      <td>14438812.0</td>\n",
       "      <td>14645473.0</td>\n",
       "      <td>14862927.0</td>\n",
       "    </tr>\n",
       "  </tbody>\n",
       "</table>\n",
       "<p>216 rows × 63 columns</p>\n",
       "</div>"
      ],
      "text/plain": [
       "     Unnamed: 0                country   year_1960   year_1961   year_1962  \\\n",
       "0             1            Afghanistan   8996967.0   9169406.0   9351442.0   \n",
       "1             2                Albania   1608800.0   1659800.0   1711319.0   \n",
       "2             3                Algeria  11057864.0  11336336.0  11619828.0   \n",
       "3             4         American Samoa     20127.0     20605.0     21246.0   \n",
       "4             5                Andorra     13410.0     14378.0     15379.0   \n",
       "..          ...                    ...         ...         ...         ...   \n",
       "211         212  Virgin Islands (U.S.)     32500.0     34300.0     35000.0   \n",
       "212         213     West Bank and Gaza         NaN         NaN         NaN   \n",
       "213         214            Yemen, Rep.   5315351.0   5393034.0   5473671.0   \n",
       "214         215                 Zambia   3070780.0   3164330.0   3260645.0   \n",
       "215         216               Zimbabwe   3776679.0   3905038.0   4039209.0   \n",
       "\n",
       "      year_1963   year_1964   year_1965   year_1966   year_1967  ...  \\\n",
       "0     9543200.0   9744772.0   9956318.0  10174840.0  10399936.0  ...   \n",
       "1     1762621.0   1814135.0   1864791.0   1914573.0   1965598.0  ...   \n",
       "2    11912800.0  12221675.0  12550880.0  12902626.0  13275020.0  ...   \n",
       "3       22029.0     22850.0     23675.0     24473.0     25235.0  ...   \n",
       "4       16407.0     17466.0     18542.0     19646.0     20760.0  ...   \n",
       "..          ...         ...         ...         ...         ...  ...   \n",
       "211     39800.0     40800.0     43500.0     46200.0     49100.0  ...   \n",
       "212         NaN         NaN         NaN         NaN         NaN  ...   \n",
       "213   5556767.0   5641598.0   5727745.0   5816241.0   5907873.0  ...   \n",
       "214   3360099.0   3463211.0   3570466.0   3681953.0   3797877.0  ...   \n",
       "215   4178726.0   4322854.0   4471178.0   4623340.0   4779825.0  ...   \n",
       "\n",
       "     year_2011   year_2012   year_2013   year_2014   year_2015   year_2016  \\\n",
       "0     30117411  31161378.0  32269592.0  33370804.0  34413603.0  35383028.0   \n",
       "1      2905195   2900401.0   2895092.0   2889104.0   2880703.0   2876101.0   \n",
       "2     36661438  37383899.0  38140135.0  38923688.0  39728020.0  40551398.0   \n",
       "3        55755     55669.0     55717.0     55791.0     55806.0     55739.0   \n",
       "4        83748     82427.0     80770.0     79213.0     77993.0     77295.0   \n",
       "..         ...         ...         ...         ...         ...         ...   \n",
       "211     108290    108188.0    108041.0    107882.0    107712.0    107516.0   \n",
       "212    3882986   3979998.0   4076708.0   4173398.0   4270092.0   4367088.0   \n",
       "213   23807586  24473176.0  25147112.0  25823488.0  26497881.0  27168210.0   \n",
       "214   14023199  14465148.0  14926551.0  15399793.0  15879370.0  16363449.0   \n",
       "215   12894323  13115149.0  13350378.0  13586710.0  13814642.0  14030338.0   \n",
       "\n",
       "      year_2017   year_2018   year_2019   year_2020  \n",
       "0    36296111.0  37171922.0  38041757.0  38928341.0  \n",
       "1     2873457.0   2866376.0   2854191.0   2837743.0  \n",
       "2    41389174.0  42228415.0  43053054.0  43851043.0  \n",
       "3       55617.0     55461.0     55312.0     55197.0  \n",
       "4       76997.0     77008.0     77146.0     77265.0  \n",
       "..          ...         ...         ...         ...  \n",
       "211    107281.0    107001.0    106669.0    106290.0  \n",
       "212   4454805.0   4569087.0   4685306.0   4803269.0  \n",
       "213  27834811.0  28498683.0  29161922.0  29825968.0  \n",
       "214  16853608.0  17351714.0  17861034.0  18383956.0  \n",
       "215  14236599.0  14438812.0  14645473.0  14862927.0  \n",
       "\n",
       "[216 rows x 63 columns]"
      ]
     },
     "execution_count": 3,
     "metadata": {},
     "output_type": "execute_result"
    }
   ],
   "source": [
    "df"
   ]
  },
  {
   "cell_type": "code",
   "execution_count": 4,
   "id": "3b51a90e",
   "metadata": {
    "execution": {
     "iopub.execute_input": "2023-06-18T15:45:13.341861Z",
     "iopub.status.busy": "2023-06-18T15:45:13.341456Z",
     "iopub.status.idle": "2023-06-18T15:45:13.370181Z",
     "shell.execute_reply": "2023-06-18T15:45:13.368764Z"
    },
    "papermill": {
     "duration": 0.037128,
     "end_time": "2023-06-18T15:45:13.372272",
     "exception": false,
     "start_time": "2023-06-18T15:45:13.335144",
     "status": "completed"
    },
    "tags": []
   },
   "outputs": [
    {
     "name": "stdout",
     "output_type": "stream",
     "text": [
      "<class 'pandas.core.frame.DataFrame'>\n",
      "RangeIndex: 216 entries, 0 to 215\n",
      "Data columns (total 63 columns):\n",
      " #   Column      Non-Null Count  Dtype  \n",
      "---  ------      --------------  -----  \n",
      " 0   Unnamed: 0  216 non-null    int64  \n",
      " 1   country     216 non-null    object \n",
      " 2   year_1960   215 non-null    float64\n",
      " 3   year_1961   215 non-null    float64\n",
      " 4   year_1962   215 non-null    float64\n",
      " 5   year_1963   215 non-null    float64\n",
      " 6   year_1964   215 non-null    float64\n",
      " 7   year_1965   215 non-null    float64\n",
      " 8   year_1966   215 non-null    float64\n",
      " 9   year_1967   215 non-null    float64\n",
      " 10  year_1968   215 non-null    float64\n",
      " 11  year_1969   215 non-null    float64\n",
      " 12  year_1970   215 non-null    float64\n",
      " 13  year_1971   215 non-null    float64\n",
      " 14  year_1972   215 non-null    float64\n",
      " 15  year_1973   215 non-null    float64\n",
      " 16  year_1974   215 non-null    float64\n",
      " 17  year_1975   215 non-null    float64\n",
      " 18  year_1976   215 non-null    float64\n",
      " 19  year_1977   215 non-null    float64\n",
      " 20  year_1978   215 non-null    float64\n",
      " 21  year_1979   215 non-null    float64\n",
      " 22  year_1980   215 non-null    float64\n",
      " 23  year_1981   215 non-null    float64\n",
      " 24  year_1982   215 non-null    float64\n",
      " 25  year_1983   215 non-null    float64\n",
      " 26  year_1984   215 non-null    float64\n",
      " 27  year_1985   215 non-null    float64\n",
      " 28  year_1986   215 non-null    float64\n",
      " 29  year_1987   215 non-null    float64\n",
      " 30  year_1988   215 non-null    float64\n",
      " 31  year_1989   215 non-null    float64\n",
      " 32  year_1990   216 non-null    int64  \n",
      " 33  year_1991   216 non-null    int64  \n",
      " 34  year_1992   215 non-null    float64\n",
      " 35  year_1993   215 non-null    float64\n",
      " 36  year_1994   215 non-null    float64\n",
      " 37  year_1995   216 non-null    int64  \n",
      " 38  year_1996   216 non-null    int64  \n",
      " 39  year_1997   216 non-null    int64  \n",
      " 40  year_1998   216 non-null    int64  \n",
      " 41  year_1999   216 non-null    int64  \n",
      " 42  year_2000   216 non-null    int64  \n",
      " 43  year_2001   216 non-null    int64  \n",
      " 44  year_2002   216 non-null    int64  \n",
      " 45  year_2003   216 non-null    int64  \n",
      " 46  year_2004   216 non-null    int64  \n",
      " 47  year_2005   216 non-null    int64  \n",
      " 48  year_2006   216 non-null    int64  \n",
      " 49  year_2007   216 non-null    int64  \n",
      " 50  year_2008   216 non-null    int64  \n",
      " 51  year_2009   216 non-null    int64  \n",
      " 52  year_2010   216 non-null    int64  \n",
      " 53  year_2011   216 non-null    int64  \n",
      " 54  year_2012   215 non-null    float64\n",
      " 55  year_2013   215 non-null    float64\n",
      " 56  year_2014   215 non-null    float64\n",
      " 57  year_2015   215 non-null    float64\n",
      " 58  year_2016   215 non-null    float64\n",
      " 59  year_2017   215 non-null    float64\n",
      " 60  year_2018   215 non-null    float64\n",
      " 61  year_2019   215 non-null    float64\n",
      " 62  year_2020   215 non-null    float64\n",
      "dtypes: float64(42), int64(20), object(1)\n",
      "memory usage: 106.4+ KB\n"
     ]
    }
   ],
   "source": [
    "df.info()"
   ]
  },
  {
   "cell_type": "code",
   "execution_count": 5,
   "id": "b01c99a8",
   "metadata": {
    "execution": {
     "iopub.execute_input": "2023-06-18T15:45:13.386533Z",
     "iopub.status.busy": "2023-06-18T15:45:13.386167Z",
     "iopub.status.idle": "2023-06-18T15:45:13.393124Z",
     "shell.execute_reply": "2023-06-18T15:45:13.391804Z"
    },
    "papermill": {
     "duration": 0.01619,
     "end_time": "2023-06-18T15:45:13.395569",
     "exception": false,
     "start_time": "2023-06-18T15:45:13.379379",
     "status": "completed"
    },
    "tags": []
   },
   "outputs": [],
   "source": [
    "# Удалим ненужный столбец\n",
    "df.drop(labels=['Unnamed: 0'], axis=1, inplace=True)"
   ]
  },
  {
   "cell_type": "code",
   "execution_count": 6,
   "id": "ee55f1da",
   "metadata": {
    "execution": {
     "iopub.execute_input": "2023-06-18T15:45:13.408228Z",
     "iopub.status.busy": "2023-06-18T15:45:13.407865Z",
     "iopub.status.idle": "2023-06-18T15:45:13.437410Z",
     "shell.execute_reply": "2023-06-18T15:45:13.436002Z"
    },
    "papermill": {
     "duration": 0.039029,
     "end_time": "2023-06-18T15:45:13.440092",
     "exception": false,
     "start_time": "2023-06-18T15:45:13.401063",
     "status": "completed"
    },
    "tags": []
   },
   "outputs": [],
   "source": [
    "# Переводим все значения в целые числа (ведь не может быть 0.5 человека)\n",
    "for col in df.columns[1:]:\n",
    "    df[col] = df[col].astype('Int64')    "
   ]
  },
  {
   "cell_type": "markdown",
   "id": "63792f5a",
   "metadata": {
    "papermill": {
     "duration": 0.005008,
     "end_time": "2023-06-18T15:45:13.450616",
     "exception": false,
     "start_time": "2023-06-18T15:45:13.445608",
     "status": "completed"
    },
    "tags": []
   },
   "source": [
    "# Заполняем пропущенные значения в данных"
   ]
  },
  {
   "cell_type": "code",
   "execution_count": 7,
   "id": "fc7c8e1c",
   "metadata": {
    "execution": {
     "iopub.execute_input": "2023-06-18T15:45:13.463149Z",
     "iopub.status.busy": "2023-06-18T15:45:13.462774Z",
     "iopub.status.idle": "2023-06-18T15:45:13.493002Z",
     "shell.execute_reply": "2023-06-18T15:45:13.491570Z"
    },
    "papermill": {
     "duration": 0.039248,
     "end_time": "2023-06-18T15:45:13.495311",
     "exception": false,
     "start_time": "2023-06-18T15:45:13.456063",
     "status": "completed"
    },
    "tags": []
   },
   "outputs": [
    {
     "data": {
      "text/html": [
       "<div>\n",
       "<style scoped>\n",
       "    .dataframe tbody tr th:only-of-type {\n",
       "        vertical-align: middle;\n",
       "    }\n",
       "\n",
       "    .dataframe tbody tr th {\n",
       "        vertical-align: top;\n",
       "    }\n",
       "\n",
       "    .dataframe thead th {\n",
       "        text-align: right;\n",
       "    }\n",
       "</style>\n",
       "<table border=\"1\" class=\"dataframe\">\n",
       "  <thead>\n",
       "    <tr style=\"text-align: right;\">\n",
       "      <th></th>\n",
       "      <th>country</th>\n",
       "      <th>year_1960</th>\n",
       "      <th>year_1961</th>\n",
       "      <th>year_1962</th>\n",
       "      <th>year_1963</th>\n",
       "      <th>year_1964</th>\n",
       "      <th>year_1965</th>\n",
       "      <th>year_1966</th>\n",
       "      <th>year_1967</th>\n",
       "      <th>year_1968</th>\n",
       "      <th>...</th>\n",
       "      <th>year_2011</th>\n",
       "      <th>year_2012</th>\n",
       "      <th>year_2013</th>\n",
       "      <th>year_2014</th>\n",
       "      <th>year_2015</th>\n",
       "      <th>year_2016</th>\n",
       "      <th>year_2017</th>\n",
       "      <th>year_2018</th>\n",
       "      <th>year_2019</th>\n",
       "      <th>year_2020</th>\n",
       "    </tr>\n",
       "  </thead>\n",
       "  <tbody>\n",
       "    <tr>\n",
       "      <th>60</th>\n",
       "      <td>Eritrea</td>\n",
       "      <td>1007586</td>\n",
       "      <td>1033320</td>\n",
       "      <td>1060489</td>\n",
       "      <td>1088859</td>\n",
       "      <td>1118152</td>\n",
       "      <td>1148188</td>\n",
       "      <td>1178875</td>\n",
       "      <td>1210304</td>\n",
       "      <td>1242633</td>\n",
       "      <td>...</td>\n",
       "      <td>3213969</td>\n",
       "      <td>&lt;NA&gt;</td>\n",
       "      <td>&lt;NA&gt;</td>\n",
       "      <td>&lt;NA&gt;</td>\n",
       "      <td>&lt;NA&gt;</td>\n",
       "      <td>&lt;NA&gt;</td>\n",
       "      <td>&lt;NA&gt;</td>\n",
       "      <td>&lt;NA&gt;</td>\n",
       "      <td>&lt;NA&gt;</td>\n",
       "      <td>&lt;NA&gt;</td>\n",
       "    </tr>\n",
       "    <tr>\n",
       "      <th>105</th>\n",
       "      <td>Kuwait</td>\n",
       "      <td>269026</td>\n",
       "      <td>300581</td>\n",
       "      <td>337346</td>\n",
       "      <td>378756</td>\n",
       "      <td>423900</td>\n",
       "      <td>472032</td>\n",
       "      <td>523169</td>\n",
       "      <td>577164</td>\n",
       "      <td>632911</td>\n",
       "      <td>...</td>\n",
       "      <td>3168054</td>\n",
       "      <td>3348852</td>\n",
       "      <td>3526382</td>\n",
       "      <td>3690939</td>\n",
       "      <td>3835588</td>\n",
       "      <td>3956862</td>\n",
       "      <td>4056102</td>\n",
       "      <td>4137314</td>\n",
       "      <td>4207077</td>\n",
       "      <td>4270563</td>\n",
       "    </tr>\n",
       "    <tr>\n",
       "      <th>212</th>\n",
       "      <td>West Bank and Gaza</td>\n",
       "      <td>&lt;NA&gt;</td>\n",
       "      <td>&lt;NA&gt;</td>\n",
       "      <td>&lt;NA&gt;</td>\n",
       "      <td>&lt;NA&gt;</td>\n",
       "      <td>&lt;NA&gt;</td>\n",
       "      <td>&lt;NA&gt;</td>\n",
       "      <td>&lt;NA&gt;</td>\n",
       "      <td>&lt;NA&gt;</td>\n",
       "      <td>&lt;NA&gt;</td>\n",
       "      <td>...</td>\n",
       "      <td>3882986</td>\n",
       "      <td>3979998</td>\n",
       "      <td>4076708</td>\n",
       "      <td>4173398</td>\n",
       "      <td>4270092</td>\n",
       "      <td>4367088</td>\n",
       "      <td>4454805</td>\n",
       "      <td>4569087</td>\n",
       "      <td>4685306</td>\n",
       "      <td>4803269</td>\n",
       "    </tr>\n",
       "  </tbody>\n",
       "</table>\n",
       "<p>3 rows × 62 columns</p>\n",
       "</div>"
      ],
      "text/plain": [
       "                country  year_1960  year_1961  year_1962  year_1963  \\\n",
       "60              Eritrea    1007586    1033320    1060489    1088859   \n",
       "105              Kuwait     269026     300581     337346     378756   \n",
       "212  West Bank and Gaza       <NA>       <NA>       <NA>       <NA>   \n",
       "\n",
       "     year_1964  year_1965  year_1966  year_1967  year_1968  ...  year_2011  \\\n",
       "60     1118152    1148188    1178875    1210304    1242633  ...    3213969   \n",
       "105     423900     472032     523169     577164     632911  ...    3168054   \n",
       "212       <NA>       <NA>       <NA>       <NA>       <NA>  ...    3882986   \n",
       "\n",
       "     year_2012  year_2013  year_2014  year_2015  year_2016  year_2017  \\\n",
       "60        <NA>       <NA>       <NA>       <NA>       <NA>       <NA>   \n",
       "105    3348852    3526382    3690939    3835588    3956862    4056102   \n",
       "212    3979998    4076708    4173398    4270092    4367088    4454805   \n",
       "\n",
       "     year_2018  year_2019  year_2020  \n",
       "60        <NA>       <NA>       <NA>  \n",
       "105    4137314    4207077    4270563  \n",
       "212    4569087    4685306    4803269  \n",
       "\n",
       "[3 rows x 62 columns]"
      ]
     },
     "execution_count": 7,
     "metadata": {},
     "output_type": "execute_result"
    }
   ],
   "source": [
    "null_data = df[df.isnull().any(axis=1)]\n",
    "null_data"
   ]
  },
  {
   "cell_type": "code",
   "execution_count": 8,
   "id": "ea1b1606",
   "metadata": {
    "execution": {
     "iopub.execute_input": "2023-06-18T15:45:13.507914Z",
     "iopub.status.busy": "2023-06-18T15:45:13.507561Z",
     "iopub.status.idle": "2023-06-18T15:45:13.519100Z",
     "shell.execute_reply": "2023-06-18T15:45:13.517812Z"
    },
    "papermill": {
     "duration": 0.020584,
     "end_time": "2023-06-18T15:45:13.521406",
     "exception": false,
     "start_time": "2023-06-18T15:45:13.500822",
     "status": "completed"
    },
    "tags": []
   },
   "outputs": [
    {
     "name": "stdout",
     "output_type": "stream",
     "text": [
      "\n",
      "For Eritrea:\n",
      "year_2012 - <NA>\n",
      "year_2013 - <NA>\n",
      "year_2014 - <NA>\n",
      "year_2015 - <NA>\n",
      "year_2016 - <NA>\n",
      "year_2017 - <NA>\n",
      "year_2018 - <NA>\n",
      "year_2019 - <NA>\n",
      "year_2020 - <NA>\n",
      "\n",
      "For Kuwait:\n",
      "year_1992 - <NA>\n",
      "year_1993 - <NA>\n",
      "year_1994 - <NA>\n",
      "\n",
      "For West Bank and Gaza:\n",
      "year_1960 - <NA>\n",
      "year_1961 - <NA>\n",
      "year_1962 - <NA>\n",
      "year_1963 - <NA>\n",
      "year_1964 - <NA>\n",
      "year_1965 - <NA>\n",
      "year_1966 - <NA>\n",
      "year_1967 - <NA>\n",
      "year_1968 - <NA>\n",
      "year_1969 - <NA>\n",
      "year_1970 - <NA>\n",
      "year_1971 - <NA>\n",
      "year_1972 - <NA>\n",
      "year_1973 - <NA>\n",
      "year_1974 - <NA>\n",
      "year_1975 - <NA>\n",
      "year_1976 - <NA>\n",
      "year_1977 - <NA>\n",
      "year_1978 - <NA>\n",
      "year_1979 - <NA>\n",
      "year_1980 - <NA>\n",
      "year_1981 - <NA>\n",
      "year_1982 - <NA>\n",
      "year_1983 - <NA>\n",
      "year_1984 - <NA>\n",
      "year_1985 - <NA>\n",
      "year_1986 - <NA>\n",
      "year_1987 - <NA>\n",
      "year_1988 - <NA>\n",
      "year_1989 - <NA>\n"
     ]
    }
   ],
   "source": [
    "# Просматриваем в каких ячейках (каких годах) отсутствуют значения численности начеления для каждой стораны\n",
    "NaN_years = {country : [] for country in null_data['country'].index}\n",
    "\n",
    "for cntry in null_data['country'].index:\n",
    "    print('\\nFor {}:'.format(null_data['country'][cntry]))\n",
    "    for col in null_data.columns[1:]:\n",
    "        if pd.isna(null_data[col][cntry]):\n",
    "            print('{} - {}'.format(col, null_data[col][cntry]))\n",
    "            NaN_years[cntry].append(col)"
   ]
  },
  {
   "cell_type": "code",
   "execution_count": 9,
   "id": "d1d61662",
   "metadata": {
    "execution": {
     "iopub.execute_input": "2023-06-18T15:45:13.535590Z",
     "iopub.status.busy": "2023-06-18T15:45:13.534895Z",
     "iopub.status.idle": "2023-06-18T15:45:13.553349Z",
     "shell.execute_reply": "2023-06-18T15:45:13.551626Z"
    },
    "papermill": {
     "duration": 0.028889,
     "end_time": "2023-06-18T15:45:13.556244",
     "exception": false,
     "start_time": "2023-06-18T15:45:13.527355",
     "status": "completed"
    },
    "tags": []
   },
   "outputs": [],
   "source": [
    "# Заменяем пропущенные значения на 0\n",
    "df = df.fillna(0)\n",
    "null_data = null_data.fillna(0)"
   ]
  },
  {
   "cell_type": "code",
   "execution_count": 10,
   "id": "569ff78d",
   "metadata": {
    "execution": {
     "iopub.execute_input": "2023-06-18T15:45:13.569853Z",
     "iopub.status.busy": "2023-06-18T15:45:13.569133Z",
     "iopub.status.idle": "2023-06-18T15:45:13.574485Z",
     "shell.execute_reply": "2023-06-18T15:45:13.573884Z"
    },
    "papermill": {
     "duration": 0.014294,
     "end_time": "2023-06-18T15:45:13.576379",
     "exception": false,
     "start_time": "2023-06-18T15:45:13.562085",
     "status": "completed"
    },
    "tags": []
   },
   "outputs": [],
   "source": [
    "# Население Eritrea с 2012 по 2020 годы (взято с сайта https://countrymeters.info/ru/Eritrea)\n",
    "Eritrea_population = [3232135, 3265907, 3296572, 3327260, 3359780, 3394875, 3433009, 3475139, 3521907]\n",
    "Kuwait_population = [1971536, 1841941, 1715490]\n",
    "# West_Bank_and_Gaza - \"в простонароде\" Палестина\n",
    "West_Bank_and_Gaza_population = [1058783, 1083148, 1112795, 1144115, 1170708, 1186676, 1188149, 1175282, 1153924, 1134233, 1126501, 1136555, 1164472, 1206091, 1254167, 1301368,\n",
    "                                 1343820, 1382020, 1417700, 1453214, 1491036, 1532632, 1577765, 1626146, 1677511, 1731900, 1788997, 1849119, 1913245, 1983402] "
   ]
  },
  {
   "cell_type": "code",
   "execution_count": 11,
   "id": "90836b64",
   "metadata": {
    "execution": {
     "iopub.execute_input": "2023-06-18T15:45:13.590263Z",
     "iopub.status.busy": "2023-06-18T15:45:13.589355Z",
     "iopub.status.idle": "2023-06-18T15:45:13.639498Z",
     "shell.execute_reply": "2023-06-18T15:45:13.638510Z"
    },
    "papermill": {
     "duration": 0.059796,
     "end_time": "2023-06-18T15:45:13.642003",
     "exception": false,
     "start_time": "2023-06-18T15:45:13.582207",
     "status": "completed"
    },
    "tags": []
   },
   "outputs": [],
   "source": [
    "# Заполняем пропущенные данные в Dataframe\n",
    "i_1 = 0\n",
    "i_2 = 0\n",
    "i_3 = 0\n",
    "for cntry in null_data['country'].index:  # берем строки, где пропущены данные\n",
    "    for col in df.columns:  # берем колонки в строках, где пропущены данные\n",
    "        if col in NaN_years[cntry]: \n",
    "            if cntry == 60:\n",
    "                #null_data = null_data.replace({col: 0}, Eritrea_population[i_1])\n",
    "                df = df.replace({col: 0}, Eritrea_population[i_1])\n",
    "                i_1 += 1\n",
    "            elif cntry == 105:\n",
    "                #null_data = null_data.replace({col: 0}, Kuwait_population[i_2])\n",
    "                df = df.replace({col: 0}, Kuwait_population[i_2])\n",
    "                i_2 += 1\n",
    "            else:\n",
    "                #null_data = null_data.replace({col: 0}, West_Bank_and_Gaza_population[i_3])\n",
    "                df = df.replace({col: 0}, West_Bank_and_Gaza_population[i_3])\n",
    "                i_3 += 1"
   ]
  },
  {
   "cell_type": "code",
   "execution_count": 12,
   "id": "b9d7f655",
   "metadata": {
    "execution": {
     "iopub.execute_input": "2023-06-18T15:45:13.655116Z",
     "iopub.status.busy": "2023-06-18T15:45:13.654781Z",
     "iopub.status.idle": "2023-06-18T15:45:13.668850Z",
     "shell.execute_reply": "2023-06-18T15:45:13.667704Z"
    },
    "papermill": {
     "duration": 0.022959,
     "end_time": "2023-06-18T15:45:13.670757",
     "exception": false,
     "start_time": "2023-06-18T15:45:13.647798",
     "status": "completed"
    },
    "tags": []
   },
   "outputs": [
    {
     "data": {
      "text/plain": [
       "0"
      ]
     },
     "execution_count": 12,
     "metadata": {},
     "output_type": "execute_result"
    }
   ],
   "source": [
    "# Проверка сколько значений 0 осталось\n",
    "df.isna().sum().sum()"
   ]
  },
  {
   "cell_type": "markdown",
   "id": "c9a76465",
   "metadata": {
    "papermill": {
     "duration": 0.005641,
     "end_time": "2023-06-18T15:45:13.682420",
     "exception": false,
     "start_time": "2023-06-18T15:45:13.676779",
     "status": "completed"
    },
    "tags": []
   },
   "source": [
    "# Анализ численности населения для стран\n",
    "\n",
    "Для анализа населения **рандомно** выберем несколько стран"
   ]
  },
  {
   "cell_type": "code",
   "execution_count": 13,
   "id": "4d076eb1",
   "metadata": {
    "execution": {
     "iopub.execute_input": "2023-06-18T15:45:13.695418Z",
     "iopub.status.busy": "2023-06-18T15:45:13.695093Z",
     "iopub.status.idle": "2023-06-18T15:45:13.700321Z",
     "shell.execute_reply": "2023-06-18T15:45:13.698952Z"
    },
    "papermill": {
     "duration": 0.014352,
     "end_time": "2023-06-18T15:45:13.702507",
     "exception": false,
     "start_time": "2023-06-18T15:45:13.688155",
     "status": "completed"
    },
    "tags": []
   },
   "outputs": [],
   "source": [
    "# Возьмем рандомно 5 стран из списка данных\n",
    "from random import randint\n",
    "an_ctry = []\n",
    "for i in range(5):\n",
    "    an_ctry.append(randint(0, 216))"
   ]
  },
  {
   "cell_type": "code",
   "execution_count": 14,
   "id": "fab5ddd0",
   "metadata": {
    "execution": {
     "iopub.execute_input": "2023-06-18T15:45:13.716434Z",
     "iopub.status.busy": "2023-06-18T15:45:13.716047Z",
     "iopub.status.idle": "2023-06-18T15:45:13.724154Z",
     "shell.execute_reply": "2023-06-18T15:45:13.723136Z"
    },
    "papermill": {
     "duration": 0.017601,
     "end_time": "2023-06-18T15:45:13.726045",
     "exception": false,
     "start_time": "2023-06-18T15:45:13.708444",
     "status": "completed"
    },
    "tags": []
   },
   "outputs": [
    {
     "name": "stdout",
     "output_type": "stream",
     "text": [
      "Страна под индексом 89 - Indonesia\n",
      "Страна под индексом 134 - Myanmar\n",
      "Страна под индексом 24 - Bosnia and Herzegovina\n",
      "Страна под индексом 79 - Guatemala\n",
      "Страна под индексом 152 - Paraguay\n"
     ]
    }
   ],
   "source": [
    "# Посмотрим что это за страны\n",
    "for j in an_ctry:\n",
    "    print('Страна под индексом {} - {}'.format(j, df.loc[j]['country']))"
   ]
  },
  {
   "cell_type": "code",
   "execution_count": 15,
   "id": "fbc663b7",
   "metadata": {
    "execution": {
     "iopub.execute_input": "2023-06-18T15:45:13.739456Z",
     "iopub.status.busy": "2023-06-18T15:45:13.739100Z",
     "iopub.status.idle": "2023-06-18T15:45:15.064383Z",
     "shell.execute_reply": "2023-06-18T15:45:15.063082Z"
    },
    "papermill": {
     "duration": 1.334808,
     "end_time": "2023-06-18T15:45:15.066882",
     "exception": false,
     "start_time": "2023-06-18T15:45:13.732074",
     "status": "completed"
    },
    "tags": []
   },
   "outputs": [
    {
     "data": {
      "image/png": "[encoded data removed]",
      "text/plain": [
       "<Figure size 1300x600 with 1 Axes>"
      ]
     },
     "metadata": {},
     "output_type": "display_data"
    },
    {
     "data": {
      "image/png": "[encoded data removed]",
      "text/plain": [
       "<Figure size 1300x600 with 1 Axes>"
      ]
     },
     "metadata": {},
     "output_type": "display_data"
    },
    {
     "data": {
      "image/png": "[encoded data removed]",
      "text/plain": [
       "<Figure size 1300x600 with 1 Axes>"
      ]
     },
     "metadata": {},
     "output_type": "display_data"
    },
    {
     "data": {
      "image/png": "[encoded data removed]",
      "text/plain": [
       "<Figure size 1300x600 with 1 Axes>"
      ]
     },
     "metadata": {},
     "output_type": "display_data"
    },
    {
     "data": {
      "image/png": "[encoded data removed]",
      "text/plain": [
       "<Figure size 1300x600 with 1 Axes>"
      ]
     },
     "metadata": {},
     "output_type": "display_data"
    }
   ],
   "source": [
    "for cntry in an_ctry:\n",
    "    plt.figure(figsize=(13, 6))\n",
    "    plots = sns.lineplot(data=df.loc[cntry], x=[1960 + i for i in range(61)], y=df.loc[cntry][1:])\n",
    "    plt.title(df.loc[cntry]['country'])"
   ]
  },
  {
   "cell_type": "markdown",
   "id": "bb3f3a58",
   "metadata": {
    "papermill": {
     "duration": 0.00777,
     "end_time": "2023-06-18T15:45:15.082820",
     "exception": false,
     "start_time": "2023-06-18T15:45:15.075050",
     "status": "completed"
    },
    "tags": []
   },
   "source": [
    "# Анализ численности населения для мира в целом"
   ]
  },
  {
   "cell_type": "code",
   "execution_count": 16,
   "id": "2d6aeb86",
   "metadata": {
    "execution": {
     "iopub.execute_input": "2023-06-18T15:45:15.101804Z",
     "iopub.status.busy": "2023-06-18T15:45:15.101364Z",
     "iopub.status.idle": "2023-06-18T15:45:15.134747Z",
     "shell.execute_reply": "2023-06-18T15:45:15.134076Z"
    },
    "papermill": {
     "duration": 0.04638,
     "end_time": "2023-06-18T15:45:15.137140",
     "exception": false,
     "start_time": "2023-06-18T15:45:15.090760",
     "status": "completed"
    },
    "tags": []
   },
   "outputs": [],
   "source": [
    "# Суммируем значения, чтобы получить население для мира в целом\n",
    "# P.S. Стоит помнить, что есть пропущенные данные\n",
    "df.loc[len(df.index)]= df.sum()\n",
    "df = df.replace(df['country'][len(df.index) - 1], 'Total')"
   ]
  },
  {
   "cell_type": "code",
   "execution_count": 17,
   "id": "fbd2571d",
   "metadata": {
    "execution": {
     "iopub.execute_input": "2023-06-18T15:45:15.155811Z",
     "iopub.status.busy": "2023-06-18T15:45:15.155403Z",
     "iopub.status.idle": "2023-06-18T15:45:15.402324Z",
     "shell.execute_reply": "2023-06-18T15:45:15.400885Z"
    },
    "papermill": {
     "duration": 0.259273,
     "end_time": "2023-06-18T15:45:15.404940",
     "exception": false,
     "start_time": "2023-06-18T15:45:15.145667",
     "status": "completed"
    },
    "tags": []
   },
   "outputs": [
    {
     "data": {
      "text/plain": [
       "Text(0.5, 1.0, 'World')"
      ]
     },
     "execution_count": 17,
     "metadata": {},
     "output_type": "execute_result"
    },
    {
     "data": {
      "image/png": "[encoded data removed]",
      "text/plain": [
       "<Figure size 1300x600 with 1 Axes>"
      ]
     },
     "metadata": {},
     "output_type": "display_data"
    }
   ],
   "source": [
    "plt.figure(figsize=(13, 6))\n",
    "plots = sns.lineplot(data=df.loc[len(df.index) - 1], x=[1960 + i for i in range(61)], y=df.loc[len(df.index) - 1][1:])\n",
    "plt.title('World')"
   ]
  }
 ],
 "metadata": {
  "kernelspec": {
   "display_name": "Python 3",
   "language": "python",
   "name": "python3"
  },
  "language_info": {
   "codemirror_mode": {
    "name": "ipython",
    "version": 3
   },
   "file_extension": ".py",
   "mimetype": "text/x-python",
   "name": "python",
   "nbconvert_exporter": "python",
   "pygments_lexer": "ipython3",
   "version": "3.10.10"
  },
  "papermill": {
   "default_parameters": {},
   "duration": 15.179121,
   "end_time": "2023-06-18T15:45:16.437988",
   "environment_variables": {},
   "exception": null,
   "input_path": "__notebook__.ipynb",
   "output_path": "__notebook__.ipynb",
   "parameters": {},
   "start_time": "2023-06-18T15:45:01.258867",
   "version": "2.4.0"
  }
 },
 "nbformat": 4,
 "nbformat_minor": 5
}
